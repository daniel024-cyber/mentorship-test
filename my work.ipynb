{
 "cells": [
  {
   "cell_type": "code",
   "execution_count": 5,
   "id": "f12ebb02",
   "metadata": {},
   "outputs": [
    {
     "name": "stdout",
     "output_type": "stream",
     "text": [
      "enter a number: 10\n",
      "invalid number\n"
     ]
    }
   ],
   "source": [
    "n = int(input('enter a number: '))\n",
    "if n % 2 ==1:\n",
    "    print('Weird')\n",
    "elif n%2==0 and n>20:\n",
    "    print('Not Weird')\n",
    "else:\n",
    "    print('invalid number')"
   ]
  },
  {
   "cell_type": "code",
   "execution_count": 12,
   "id": "8a95bc33",
   "metadata": {},
   "outputs": [
    {
     "name": "stdout",
     "output_type": "stream",
     "text": [
      "['m', 'y', 's', 't', 'r', 'i', 'n', 'g']\n"
     ]
    }
   ],
   "source": [
    "var = 'my string'\n",
    "list=[]\n",
    "for i in var:\n",
    "    if i == ' ' or int() > 4:\n",
    "        del(i)\n",
    "    else:\n",
    "        list=list+[i]\n",
    "print(list)\n",
    "    "
   ]
  },
  {
   "cell_type": "code",
   "execution_count": 14,
   "id": "60fd4c30",
   "metadata": {},
   "outputs": [
    {
     "name": "stdout",
     "output_type": "stream",
     "text": [
      "['5', 'n', 'a', 'i', 'r', 'a']\n"
     ]
    }
   ],
   "source": [
    "var1 = '5 naira'\n",
    "list1 = []\n",
    "for i in var1:\n",
    "    if i ==' ' or int() > 4:\n",
    "        del(i)\n",
    "    else:\n",
    "        list1 = list1+[i]\n",
    "print(list1)\n",
    "    "
   ]
  },
  {
   "cell_type": "code",
   "execution_count": 17,
   "id": "e9525cc2",
   "metadata": {},
   "outputs": [
    {
     "name": "stdout",
     "output_type": "stream",
     "text": [
      "['3', 'b', 'o', 'o', 'k', 's']\n"
     ]
    }
   ],
   "source": [
    "var2 = '3books'\n",
    "list2 = []\n",
    "for i in var2:\n",
    "    if i ==' ' or int() > 4:\n",
    "        del(i)\n",
    "    else:\n",
    "        list2 = list2+[i]\n",
    "print(list2)"
   ]
  },
  {
   "cell_type": "markdown",
   "id": "2ed6afa3",
   "metadata": {},
   "source": [
    "algorithm is a well defined set of instructions to solve a particular problem option(1)"
   ]
  },
  {
   "cell_type": "code",
   "execution_count": null,
   "id": "703a54f6",
   "metadata": {},
   "outputs": [],
   "source": []
  }
 ],
 "metadata": {
  "kernelspec": {
   "display_name": "Python 3 (ipykernel)",
   "language": "python",
   "name": "python3"
  },
  "language_info": {
   "codemirror_mode": {
    "name": "ipython",
    "version": 3
   },
   "file_extension": ".py",
   "mimetype": "text/x-python",
   "name": "python",
   "nbconvert_exporter": "python",
   "pygments_lexer": "ipython3",
   "version": "3.9.7"
  }
 },
 "nbformat": 4,
 "nbformat_minor": 5
}
